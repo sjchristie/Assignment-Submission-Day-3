{
  "nbformat": 4,
  "nbformat_minor": 0,
  "metadata": {
    "colab": {
      "name": "Navigation.ipynb",
      "provenance": [],
      "collapsed_sections": []
    },
    "kernelspec": {
      "name": "python3",
      "display_name": "Python 3"
    },
    "language_info": {
      "name": "python"
    }
  },
  "cells": [
    {
      "cell_type": "code",
      "metadata": {
        "id": "X2KZ1-OZ7_MR"
      },
      "source": [
        "# You are the pilot of a plane, you need to land it at the upcoming Airport.\n",
        "\n",
        "# For landing the Plane you need to obtain the Altitude of\n",
        "# 3000 ft, which is safe for landing\n",
        "\n",
        "# If your plane is above 3000ft and below 6000ft,\n",
        "# at least allow the pilot to try for landing\n",
        "\n",
        "# If your plane is above 6000ft, don't all the \n",
        "# pilot to land the plane and ask \"Go around\"\n",
        "\n",
        "# the User will enter the Altitude of the Plane"
      ],
      "execution_count": null,
      "outputs": []
    },
    {
      "cell_type": "code",
      "metadata": {
        "colab": {
          "base_uri": "https://localhost:8080/"
        },
        "id": "f0zOtASG4QwO",
        "outputId": "25d49e9a-8e33-43bf-c49f-14e044276f47"
      },
      "source": [
        "altitude =int(input(\"Please enter current altitude: \"))\n"
      ],
      "execution_count": 12,
      "outputs": [
        {
          "output_type": "stream",
          "text": [
            "Please enter current altitude: 2000\n"
          ],
          "name": "stdout"
        }
      ]
    },
    {
      "cell_type": "code",
      "metadata": {
        "colab": {
          "base_uri": "https://localhost:8080/"
        },
        "id": "EcdfTWiA40Gj",
        "outputId": "f3aab957-c85f-41b0-effb-245f6156e544"
      },
      "source": [
        "if (altitude >= 3000 and altitude <= 6000):\n",
        "  print(\"Land the Plane\")\n",
        "elif (altitude > 6000):\n",
        "  print(\"Altitude is to high. Please go around and try again\")\n",
        "elif altitude < 3000:\n",
        "  print(\"Altitude is to low. Please go around and try again\")\n",
        "else:\n",
        "  print(\"Altitude has been entered incorrectly.  Please enter a new Altitude value\")"
      ],
      "execution_count": 13,
      "outputs": [
        {
          "output_type": "stream",
          "text": [
            "Altitude is to low. Please go around and try again\n"
          ],
          "name": "stdout"
        }
      ]
    }
  ]
}